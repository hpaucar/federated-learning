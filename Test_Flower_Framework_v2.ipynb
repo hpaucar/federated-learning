{
  "nbformat": 4,
  "nbformat_minor": 0,
  "metadata": {
    "colab": {
      "provenance": []
    },
    "kernelspec": {
      "name": "python3",
      "display_name": "Python 3"
    },
    "language_info": {
      "name": "python"
    },
    "widgets": {
      "application/vnd.jupyter.widget-state+json": {
        "33dee6906e32419591eae15bd26d7f1b": {
          "model_module": "@jupyter-widgets/controls",
          "model_name": "HBoxModel",
          "model_module_version": "1.5.0",
          "state": {
            "_dom_classes": [],
            "_model_module": "@jupyter-widgets/controls",
            "_model_module_version": "1.5.0",
            "_model_name": "HBoxModel",
            "_view_count": null,
            "_view_module": "@jupyter-widgets/controls",
            "_view_module_version": "1.5.0",
            "_view_name": "HBoxView",
            "box_style": "",
            "children": [
              "IPY_MODEL_b3061b8a9ce6484b895b9910a777510a",
              "IPY_MODEL_4029b5c6bd9b423eb63e720365626730",
              "IPY_MODEL_14d768b9c3d249d69d2e7884ac6ce710"
            ],
            "layout": "IPY_MODEL_ba5cda1e3a5f497b911e6cf74c1cfa4d"
          }
        },
        "b3061b8a9ce6484b895b9910a777510a": {
          "model_module": "@jupyter-widgets/controls",
          "model_name": "HTMLModel",
          "model_module_version": "1.5.0",
          "state": {
            "_dom_classes": [],
            "_model_module": "@jupyter-widgets/controls",
            "_model_module_version": "1.5.0",
            "_model_name": "HTMLModel",
            "_view_count": null,
            "_view_module": "@jupyter-widgets/controls",
            "_view_module_version": "1.5.0",
            "_view_name": "HTMLView",
            "description": "",
            "description_tooltip": null,
            "layout": "IPY_MODEL_54a7ae7690e244c38e4073f43a87ff57",
            "placeholder": "​",
            "style": "IPY_MODEL_3bbd581921404507b9427a4af916225d",
            "value": "100%"
          }
        },
        "4029b5c6bd9b423eb63e720365626730": {
          "model_module": "@jupyter-widgets/controls",
          "model_name": "FloatProgressModel",
          "model_module_version": "1.5.0",
          "state": {
            "_dom_classes": [],
            "_model_module": "@jupyter-widgets/controls",
            "_model_module_version": "1.5.0",
            "_model_name": "FloatProgressModel",
            "_view_count": null,
            "_view_module": "@jupyter-widgets/controls",
            "_view_module_version": "1.5.0",
            "_view_name": "ProgressView",
            "bar_style": "success",
            "description": "",
            "description_tooltip": null,
            "layout": "IPY_MODEL_b40c135735fe4c039f97e40c969ba0cf",
            "max": 170498071,
            "min": 0,
            "orientation": "horizontal",
            "style": "IPY_MODEL_72c52ba63a21480eb78e0843c91ecc86",
            "value": 170498071
          }
        },
        "14d768b9c3d249d69d2e7884ac6ce710": {
          "model_module": "@jupyter-widgets/controls",
          "model_name": "HTMLModel",
          "model_module_version": "1.5.0",
          "state": {
            "_dom_classes": [],
            "_model_module": "@jupyter-widgets/controls",
            "_model_module_version": "1.5.0",
            "_model_name": "HTMLModel",
            "_view_count": null,
            "_view_module": "@jupyter-widgets/controls",
            "_view_module_version": "1.5.0",
            "_view_name": "HTMLView",
            "description": "",
            "description_tooltip": null,
            "layout": "IPY_MODEL_be1b009097d645ab89f38e4a83814217",
            "placeholder": "​",
            "style": "IPY_MODEL_5a1c2b1a40684beebcd04c8008764a66",
            "value": " 170498071/170498071 [00:01&lt;00:00, 95624674.90it/s]"
          }
        },
        "ba5cda1e3a5f497b911e6cf74c1cfa4d": {
          "model_module": "@jupyter-widgets/base",
          "model_name": "LayoutModel",
          "model_module_version": "1.2.0",
          "state": {
            "_model_module": "@jupyter-widgets/base",
            "_model_module_version": "1.2.0",
            "_model_name": "LayoutModel",
            "_view_count": null,
            "_view_module": "@jupyter-widgets/base",
            "_view_module_version": "1.2.0",
            "_view_name": "LayoutView",
            "align_content": null,
            "align_items": null,
            "align_self": null,
            "border": null,
            "bottom": null,
            "display": null,
            "flex": null,
            "flex_flow": null,
            "grid_area": null,
            "grid_auto_columns": null,
            "grid_auto_flow": null,
            "grid_auto_rows": null,
            "grid_column": null,
            "grid_gap": null,
            "grid_row": null,
            "grid_template_areas": null,
            "grid_template_columns": null,
            "grid_template_rows": null,
            "height": null,
            "justify_content": null,
            "justify_items": null,
            "left": null,
            "margin": null,
            "max_height": null,
            "max_width": null,
            "min_height": null,
            "min_width": null,
            "object_fit": null,
            "object_position": null,
            "order": null,
            "overflow": null,
            "overflow_x": null,
            "overflow_y": null,
            "padding": null,
            "right": null,
            "top": null,
            "visibility": null,
            "width": null
          }
        },
        "54a7ae7690e244c38e4073f43a87ff57": {
          "model_module": "@jupyter-widgets/base",
          "model_name": "LayoutModel",
          "model_module_version": "1.2.0",
          "state": {
            "_model_module": "@jupyter-widgets/base",
            "_model_module_version": "1.2.0",
            "_model_name": "LayoutModel",
            "_view_count": null,
            "_view_module": "@jupyter-widgets/base",
            "_view_module_version": "1.2.0",
            "_view_name": "LayoutView",
            "align_content": null,
            "align_items": null,
            "align_self": null,
            "border": null,
            "bottom": null,
            "display": null,
            "flex": null,
            "flex_flow": null,
            "grid_area": null,
            "grid_auto_columns": null,
            "grid_auto_flow": null,
            "grid_auto_rows": null,
            "grid_column": null,
            "grid_gap": null,
            "grid_row": null,
            "grid_template_areas": null,
            "grid_template_columns": null,
            "grid_template_rows": null,
            "height": null,
            "justify_content": null,
            "justify_items": null,
            "left": null,
            "margin": null,
            "max_height": null,
            "max_width": null,
            "min_height": null,
            "min_width": null,
            "object_fit": null,
            "object_position": null,
            "order": null,
            "overflow": null,
            "overflow_x": null,
            "overflow_y": null,
            "padding": null,
            "right": null,
            "top": null,
            "visibility": null,
            "width": null
          }
        },
        "3bbd581921404507b9427a4af916225d": {
          "model_module": "@jupyter-widgets/controls",
          "model_name": "DescriptionStyleModel",
          "model_module_version": "1.5.0",
          "state": {
            "_model_module": "@jupyter-widgets/controls",
            "_model_module_version": "1.5.0",
            "_model_name": "DescriptionStyleModel",
            "_view_count": null,
            "_view_module": "@jupyter-widgets/base",
            "_view_module_version": "1.2.0",
            "_view_name": "StyleView",
            "description_width": ""
          }
        },
        "b40c135735fe4c039f97e40c969ba0cf": {
          "model_module": "@jupyter-widgets/base",
          "model_name": "LayoutModel",
          "model_module_version": "1.2.0",
          "state": {
            "_model_module": "@jupyter-widgets/base",
            "_model_module_version": "1.2.0",
            "_model_name": "LayoutModel",
            "_view_count": null,
            "_view_module": "@jupyter-widgets/base",
            "_view_module_version": "1.2.0",
            "_view_name": "LayoutView",
            "align_content": null,
            "align_items": null,
            "align_self": null,
            "border": null,
            "bottom": null,
            "display": null,
            "flex": null,
            "flex_flow": null,
            "grid_area": null,
            "grid_auto_columns": null,
            "grid_auto_flow": null,
            "grid_auto_rows": null,
            "grid_column": null,
            "grid_gap": null,
            "grid_row": null,
            "grid_template_areas": null,
            "grid_template_columns": null,
            "grid_template_rows": null,
            "height": null,
            "justify_content": null,
            "justify_items": null,
            "left": null,
            "margin": null,
            "max_height": null,
            "max_width": null,
            "min_height": null,
            "min_width": null,
            "object_fit": null,
            "object_position": null,
            "order": null,
            "overflow": null,
            "overflow_x": null,
            "overflow_y": null,
            "padding": null,
            "right": null,
            "top": null,
            "visibility": null,
            "width": null
          }
        },
        "72c52ba63a21480eb78e0843c91ecc86": {
          "model_module": "@jupyter-widgets/controls",
          "model_name": "ProgressStyleModel",
          "model_module_version": "1.5.0",
          "state": {
            "_model_module": "@jupyter-widgets/controls",
            "_model_module_version": "1.5.0",
            "_model_name": "ProgressStyleModel",
            "_view_count": null,
            "_view_module": "@jupyter-widgets/base",
            "_view_module_version": "1.2.0",
            "_view_name": "StyleView",
            "bar_color": null,
            "description_width": ""
          }
        },
        "be1b009097d645ab89f38e4a83814217": {
          "model_module": "@jupyter-widgets/base",
          "model_name": "LayoutModel",
          "model_module_version": "1.2.0",
          "state": {
            "_model_module": "@jupyter-widgets/base",
            "_model_module_version": "1.2.0",
            "_model_name": "LayoutModel",
            "_view_count": null,
            "_view_module": "@jupyter-widgets/base",
            "_view_module_version": "1.2.0",
            "_view_name": "LayoutView",
            "align_content": null,
            "align_items": null,
            "align_self": null,
            "border": null,
            "bottom": null,
            "display": null,
            "flex": null,
            "flex_flow": null,
            "grid_area": null,
            "grid_auto_columns": null,
            "grid_auto_flow": null,
            "grid_auto_rows": null,
            "grid_column": null,
            "grid_gap": null,
            "grid_row": null,
            "grid_template_areas": null,
            "grid_template_columns": null,
            "grid_template_rows": null,
            "height": null,
            "justify_content": null,
            "justify_items": null,
            "left": null,
            "margin": null,
            "max_height": null,
            "max_width": null,
            "min_height": null,
            "min_width": null,
            "object_fit": null,
            "object_position": null,
            "order": null,
            "overflow": null,
            "overflow_x": null,
            "overflow_y": null,
            "padding": null,
            "right": null,
            "top": null,
            "visibility": null,
            "width": null
          }
        },
        "5a1c2b1a40684beebcd04c8008764a66": {
          "model_module": "@jupyter-widgets/controls",
          "model_name": "DescriptionStyleModel",
          "model_module_version": "1.5.0",
          "state": {
            "_model_module": "@jupyter-widgets/controls",
            "_model_module_version": "1.5.0",
            "_model_name": "DescriptionStyleModel",
            "_view_count": null,
            "_view_module": "@jupyter-widgets/base",
            "_view_module_version": "1.2.0",
            "_view_name": "StyleView",
            "description_width": ""
          }
        }
      }
    }
  },
  "cells": [
    {
      "cell_type": "code",
      "source": [
        "!pip install flwr torch torchvision matplotlib"
      ],
      "metadata": {
        "colab": {
          "base_uri": "https://localhost:8080/"
        },
        "id": "cZmNXubYKshb",
        "outputId": "0f2df24d-8cfd-4a5b-b6f4-103d8e35e312"
      },
      "execution_count": 1,
      "outputs": [
        {
          "output_type": "stream",
          "name": "stdout",
          "text": [
            "Looking in indexes: https://pypi.org/simple, https://us-python.pkg.dev/colab-wheels/public/simple/\n",
            "Collecting flwr\n",
            "  Downloading flwr-1.1.0-py3-none-any.whl (121 kB)\n",
            "\u001b[K     |████████████████████████████████| 121 kB 4.7 MB/s \n",
            "\u001b[?25hRequirement already satisfied: torch in /usr/local/lib/python3.8/dist-packages (1.13.0+cu116)\n",
            "Requirement already satisfied: torchvision in /usr/local/lib/python3.8/dist-packages (0.14.0+cu116)\n",
            "Requirement already satisfied: matplotlib in /usr/local/lib/python3.8/dist-packages (3.2.2)\n",
            "Collecting iterators<0.0.3,>=0.0.2\n",
            "  Downloading iterators-0.0.2-py3-none-any.whl (3.9 kB)\n",
            "Requirement already satisfied: protobuf<4.0.0,>=3.19.0 in /usr/local/lib/python3.8/dist-packages (from flwr) (3.19.6)\n",
            "Requirement already satisfied: grpcio<2.0.0,>=1.43.0 in /usr/local/lib/python3.8/dist-packages (from flwr) (1.51.1)\n",
            "Requirement already satisfied: numpy<2.0.0,>=1.21.0 in /usr/local/lib/python3.8/dist-packages (from flwr) (1.21.6)\n",
            "Requirement already satisfied: typing-extensions in /usr/local/lib/python3.8/dist-packages (from torch) (4.4.0)\n",
            "Requirement already satisfied: pillow!=8.3.*,>=5.3.0 in /usr/local/lib/python3.8/dist-packages (from torchvision) (7.1.2)\n",
            "Requirement already satisfied: requests in /usr/local/lib/python3.8/dist-packages (from torchvision) (2.23.0)\n",
            "Requirement already satisfied: pyparsing!=2.0.4,!=2.1.2,!=2.1.6,>=2.0.1 in /usr/local/lib/python3.8/dist-packages (from matplotlib) (3.0.9)\n",
            "Requirement already satisfied: kiwisolver>=1.0.1 in /usr/local/lib/python3.8/dist-packages (from matplotlib) (1.4.4)\n",
            "Requirement already satisfied: python-dateutil>=2.1 in /usr/local/lib/python3.8/dist-packages (from matplotlib) (2.8.2)\n",
            "Requirement already satisfied: cycler>=0.10 in /usr/local/lib/python3.8/dist-packages (from matplotlib) (0.11.0)\n",
            "Requirement already satisfied: six>=1.5 in /usr/local/lib/python3.8/dist-packages (from python-dateutil>=2.1->matplotlib) (1.15.0)\n",
            "Requirement already satisfied: certifi>=2017.4.17 in /usr/local/lib/python3.8/dist-packages (from requests->torchvision) (2022.12.7)\n",
            "Requirement already satisfied: chardet<4,>=3.0.2 in /usr/local/lib/python3.8/dist-packages (from requests->torchvision) (3.0.4)\n",
            "Requirement already satisfied: idna<3,>=2.5 in /usr/local/lib/python3.8/dist-packages (from requests->torchvision) (2.10)\n",
            "Requirement already satisfied: urllib3!=1.25.0,!=1.25.1,<1.26,>=1.21.1 in /usr/local/lib/python3.8/dist-packages (from requests->torchvision) (1.24.3)\n",
            "Installing collected packages: iterators, flwr\n",
            "Successfully installed flwr-1.1.0 iterators-0.0.2\n"
          ]
        }
      ]
    },
    {
      "cell_type": "code",
      "execution_count": 3,
      "metadata": {
        "colab": {
          "base_uri": "https://localhost:8080/"
        },
        "id": "luHDHWbuJgN5",
        "outputId": "6a24237b-a947-47cd-c98d-86ad34cb6d83"
      },
      "outputs": [
        {
          "output_type": "stream",
          "name": "stdout",
          "text": [
            "Looking in indexes: https://pypi.org/simple, https://us-python.pkg.dev/colab-wheels/public/simple/\n",
            "Requirement already satisfied: flwr[simulation] in /usr/local/lib/python3.8/dist-packages (1.1.0)\n",
            "Requirement already satisfied: iterators<0.0.3,>=0.0.2 in /usr/local/lib/python3.8/dist-packages (from flwr[simulation]) (0.0.2)\n",
            "Requirement already satisfied: numpy<2.0.0,>=1.21.0 in /usr/local/lib/python3.8/dist-packages (from flwr[simulation]) (1.21.6)\n",
            "Requirement already satisfied: grpcio<2.0.0,>=1.43.0 in /usr/local/lib/python3.8/dist-packages (from flwr[simulation]) (1.43.0)\n",
            "Requirement already satisfied: protobuf<4.0.0,>=3.19.0 in /usr/local/lib/python3.8/dist-packages (from flwr[simulation]) (3.19.6)\n",
            "Requirement already satisfied: ray[default]<2.1.0,>=2.0.0 in /usr/local/lib/python3.8/dist-packages (from flwr[simulation]) (2.0.1)\n",
            "Requirement already satisfied: six>=1.5.2 in /usr/local/lib/python3.8/dist-packages (from grpcio<2.0.0,>=1.43.0->flwr[simulation]) (1.15.0)\n",
            "Requirement already satisfied: requests in /usr/local/lib/python3.8/dist-packages (from ray[default]<2.1.0,>=2.0.0->flwr[simulation]) (2.23.0)\n",
            "Requirement already satisfied: virtualenv in /usr/local/lib/python3.8/dist-packages (from ray[default]<2.1.0,>=2.0.0->flwr[simulation]) (20.17.1)\n",
            "Requirement already satisfied: msgpack<2.0.0,>=1.0.0 in /usr/local/lib/python3.8/dist-packages (from ray[default]<2.1.0,>=2.0.0->flwr[simulation]) (1.0.4)\n",
            "Requirement already satisfied: pyyaml in /usr/local/lib/python3.8/dist-packages (from ray[default]<2.1.0,>=2.0.0->flwr[simulation]) (6.0)\n",
            "Requirement already satisfied: aiosignal in /usr/local/lib/python3.8/dist-packages (from ray[default]<2.1.0,>=2.0.0->flwr[simulation]) (1.3.1)\n",
            "Requirement already satisfied: filelock in /usr/local/lib/python3.8/dist-packages (from ray[default]<2.1.0,>=2.0.0->flwr[simulation]) (3.8.2)\n",
            "Requirement already satisfied: jsonschema in /usr/local/lib/python3.8/dist-packages (from ray[default]<2.1.0,>=2.0.0->flwr[simulation]) (4.3.3)\n",
            "Requirement already satisfied: frozenlist in /usr/local/lib/python3.8/dist-packages (from ray[default]<2.1.0,>=2.0.0->flwr[simulation]) (1.3.3)\n",
            "Requirement already satisfied: click<=8.0.4,>=7.0 in /usr/local/lib/python3.8/dist-packages (from ray[default]<2.1.0,>=2.0.0->flwr[simulation]) (7.1.2)\n",
            "Requirement already satisfied: attrs in /usr/local/lib/python3.8/dist-packages (from ray[default]<2.1.0,>=2.0.0->flwr[simulation]) (22.1.0)\n",
            "Requirement already satisfied: opencensus in /usr/local/lib/python3.8/dist-packages (from ray[default]<2.1.0,>=2.0.0->flwr[simulation]) (0.11.0)\n",
            "Requirement already satisfied: smart-open in /usr/local/lib/python3.8/dist-packages (from ray[default]<2.1.0,>=2.0.0->flwr[simulation]) (6.3.0)\n",
            "Requirement already satisfied: py-spy>=0.2.0 in /usr/local/lib/python3.8/dist-packages (from ray[default]<2.1.0,>=2.0.0->flwr[simulation]) (0.3.14)\n",
            "Requirement already satisfied: aiohttp-cors in /usr/local/lib/python3.8/dist-packages (from ray[default]<2.1.0,>=2.0.0->flwr[simulation]) (0.7.0)\n",
            "Requirement already satisfied: colorful in /usr/local/lib/python3.8/dist-packages (from ray[default]<2.1.0,>=2.0.0->flwr[simulation]) (0.5.5)\n",
            "Requirement already satisfied: gpustat>=1.0.0b1 in /usr/local/lib/python3.8/dist-packages (from ray[default]<2.1.0,>=2.0.0->flwr[simulation]) (1.0.0)\n",
            "Requirement already satisfied: prometheus-client<0.14.0,>=0.7.1 in /usr/local/lib/python3.8/dist-packages (from ray[default]<2.1.0,>=2.0.0->flwr[simulation]) (0.13.1)\n",
            "Requirement already satisfied: aiohttp>=3.7 in /usr/local/lib/python3.8/dist-packages (from ray[default]<2.1.0,>=2.0.0->flwr[simulation]) (3.8.3)\n",
            "Requirement already satisfied: pydantic in /usr/local/lib/python3.8/dist-packages (from ray[default]<2.1.0,>=2.0.0->flwr[simulation]) (1.10.2)\n",
            "Requirement already satisfied: charset-normalizer<3.0,>=2.0 in /usr/local/lib/python3.8/dist-packages (from aiohttp>=3.7->ray[default]<2.1.0,>=2.0.0->flwr[simulation]) (2.1.1)\n",
            "Requirement already satisfied: async-timeout<5.0,>=4.0.0a3 in /usr/local/lib/python3.8/dist-packages (from aiohttp>=3.7->ray[default]<2.1.0,>=2.0.0->flwr[simulation]) (4.0.2)\n",
            "Requirement already satisfied: yarl<2.0,>=1.0 in /usr/local/lib/python3.8/dist-packages (from aiohttp>=3.7->ray[default]<2.1.0,>=2.0.0->flwr[simulation]) (1.8.2)\n",
            "Requirement already satisfied: multidict<7.0,>=4.5 in /usr/local/lib/python3.8/dist-packages (from aiohttp>=3.7->ray[default]<2.1.0,>=2.0.0->flwr[simulation]) (6.0.3)\n",
            "Requirement already satisfied: blessed>=1.17.1 in /usr/local/lib/python3.8/dist-packages (from gpustat>=1.0.0b1->ray[default]<2.1.0,>=2.0.0->flwr[simulation]) (1.19.1)\n",
            "Requirement already satisfied: nvidia-ml-py<=11.495.46,>=11.450.129 in /usr/local/lib/python3.8/dist-packages (from gpustat>=1.0.0b1->ray[default]<2.1.0,>=2.0.0->flwr[simulation]) (11.495.46)\n",
            "Requirement already satisfied: psutil>=5.6.0 in /usr/local/lib/python3.8/dist-packages (from gpustat>=1.0.0b1->ray[default]<2.1.0,>=2.0.0->flwr[simulation]) (5.9.4)\n",
            "Requirement already satisfied: wcwidth>=0.1.4 in /usr/local/lib/python3.8/dist-packages (from blessed>=1.17.1->gpustat>=1.0.0b1->ray[default]<2.1.0,>=2.0.0->flwr[simulation]) (0.2.5)\n",
            "Requirement already satisfied: idna>=2.0 in /usr/local/lib/python3.8/dist-packages (from yarl<2.0,>=1.0->aiohttp>=3.7->ray[default]<2.1.0,>=2.0.0->flwr[simulation]) (2.10)\n",
            "Requirement already satisfied: importlib-resources>=1.4.0 in /usr/local/lib/python3.8/dist-packages (from jsonschema->ray[default]<2.1.0,>=2.0.0->flwr[simulation]) (5.10.1)\n",
            "Requirement already satisfied: pyrsistent!=0.17.0,!=0.17.1,!=0.17.2,>=0.14.0 in /usr/local/lib/python3.8/dist-packages (from jsonschema->ray[default]<2.1.0,>=2.0.0->flwr[simulation]) (0.19.2)\n",
            "Requirement already satisfied: zipp>=3.1.0 in /usr/local/lib/python3.8/dist-packages (from importlib-resources>=1.4.0->jsonschema->ray[default]<2.1.0,>=2.0.0->flwr[simulation]) (3.11.0)\n",
            "Requirement already satisfied: google-api-core<3.0.0,>=1.0.0 in /usr/local/lib/python3.8/dist-packages (from opencensus->ray[default]<2.1.0,>=2.0.0->flwr[simulation]) (2.8.2)\n",
            "Requirement already satisfied: opencensus-context>=0.1.3 in /usr/local/lib/python3.8/dist-packages (from opencensus->ray[default]<2.1.0,>=2.0.0->flwr[simulation]) (0.1.3)\n",
            "Requirement already satisfied: google-auth<3.0dev,>=1.25.0 in /usr/local/lib/python3.8/dist-packages (from google-api-core<3.0.0,>=1.0.0->opencensus->ray[default]<2.1.0,>=2.0.0->flwr[simulation]) (2.15.0)\n",
            "Requirement already satisfied: googleapis-common-protos<2.0dev,>=1.56.2 in /usr/local/lib/python3.8/dist-packages (from google-api-core<3.0.0,>=1.0.0->opencensus->ray[default]<2.1.0,>=2.0.0->flwr[simulation]) (1.57.0)\n",
            "Requirement already satisfied: cachetools<6.0,>=2.0.0 in /usr/local/lib/python3.8/dist-packages (from google-auth<3.0dev,>=1.25.0->google-api-core<3.0.0,>=1.0.0->opencensus->ray[default]<2.1.0,>=2.0.0->flwr[simulation]) (5.2.0)\n",
            "Requirement already satisfied: pyasn1-modules>=0.2.1 in /usr/local/lib/python3.8/dist-packages (from google-auth<3.0dev,>=1.25.0->google-api-core<3.0.0,>=1.0.0->opencensus->ray[default]<2.1.0,>=2.0.0->flwr[simulation]) (0.2.8)\n",
            "Requirement already satisfied: rsa<5,>=3.1.4 in /usr/local/lib/python3.8/dist-packages (from google-auth<3.0dev,>=1.25.0->google-api-core<3.0.0,>=1.0.0->opencensus->ray[default]<2.1.0,>=2.0.0->flwr[simulation]) (4.9)\n",
            "Requirement already satisfied: pyasn1<0.5.0,>=0.4.6 in /usr/local/lib/python3.8/dist-packages (from pyasn1-modules>=0.2.1->google-auth<3.0dev,>=1.25.0->google-api-core<3.0.0,>=1.0.0->opencensus->ray[default]<2.1.0,>=2.0.0->flwr[simulation]) (0.4.8)\n",
            "Requirement already satisfied: chardet<4,>=3.0.2 in /usr/local/lib/python3.8/dist-packages (from requests->ray[default]<2.1.0,>=2.0.0->flwr[simulation]) (3.0.4)\n",
            "Requirement already satisfied: certifi>=2017.4.17 in /usr/local/lib/python3.8/dist-packages (from requests->ray[default]<2.1.0,>=2.0.0->flwr[simulation]) (2022.12.7)\n",
            "Requirement already satisfied: urllib3!=1.25.0,!=1.25.1,<1.26,>=1.21.1 in /usr/local/lib/python3.8/dist-packages (from requests->ray[default]<2.1.0,>=2.0.0->flwr[simulation]) (1.24.3)\n",
            "Requirement already satisfied: typing-extensions>=4.1.0 in /usr/local/lib/python3.8/dist-packages (from pydantic->ray[default]<2.1.0,>=2.0.0->flwr[simulation]) (4.4.0)\n",
            "Requirement already satisfied: distlib<1,>=0.3.6 in /usr/local/lib/python3.8/dist-packages (from virtualenv->ray[default]<2.1.0,>=2.0.0->flwr[simulation]) (0.3.6)\n",
            "Requirement already satisfied: platformdirs<3,>=2.4 in /usr/local/lib/python3.8/dist-packages (from virtualenv->ray[default]<2.1.0,>=2.0.0->flwr[simulation]) (2.6.0)\n"
          ]
        }
      ],
      "source": [
        "!pip install -U flwr['simulation']"
      ]
    },
    {
      "cell_type": "code",
      "source": [
        "from collections import OrderedDict\n",
        "from typing import List, Tuple\n",
        "\n",
        "import flwr as fl\n",
        "import numpy as np\n",
        "import matplotlib.pyplot as plt\n",
        "import torch\n",
        "import torch.nn as nn\n",
        "import torchvision\n",
        "import torch.nn.functional as F\n",
        "import torchvision.transforms as transforms\n",
        "from flwr.common import Metrics\n",
        "from torch.utils.data import DataLoader, random_split\n",
        "from torchvision.datasets import CIFAR10\n",
        "\n",
        "DEVICE = torch.device(\"cpu\")  # Try \"cuda\" to train on GPU\n",
        "print(f\"Training on {DEVICE} using PyTorch {torch.__version__} and Flower {fl.__version__}\")"
      ],
      "metadata": {
        "colab": {
          "base_uri": "https://localhost:8080/"
        },
        "id": "EzQ3TdjlLEfF",
        "outputId": "3e777978-dc9f-47d4-9b7a-ba8ec16f6422"
      },
      "execution_count": 4,
      "outputs": [
        {
          "output_type": "stream",
          "name": "stdout",
          "text": [
            "Training on cpu using PyTorch 1.13.0+cu116 and Flower 1.1.0\n"
          ]
        }
      ]
    },
    {
      "cell_type": "code",
      "source": [
        "CLASSES = ('plane', 'car', 'bird', 'cat', 'deer', 'dog', 'frog', 'horse', 'ship', 'truck')"
      ],
      "metadata": {
        "id": "Bn7jCu3JLEoS"
      },
      "execution_count": 5,
      "outputs": []
    },
    {
      "cell_type": "code",
      "source": [
        "NUM_CLIENTS = 10"
      ],
      "metadata": {
        "id": "j4oATIlvLErx"
      },
      "execution_count": 6,
      "outputs": []
    },
    {
      "cell_type": "code",
      "source": [
        "BATCH_SIZE = 32\n",
        "\n",
        "def load_datasets():\n",
        "    # Download and transform CIFAR-10 (train and test)\n",
        "    transform = transforms.Compose(\n",
        "      [transforms.ToTensor(), transforms.Normalize((0.5, 0.5, 0.5), (0.5, 0.5, 0.5))]\n",
        "    )\n",
        "    trainset = CIFAR10(\"./dataset\", train=True, download=True, transform=transform)\n",
        "    testset = CIFAR10(\"./dataset\", train=False, download=True, transform=transform)\n",
        "\n",
        "    # Split training set into 10 partitions to simulate the individual dataset\n",
        "    partition_size = len(trainset) // NUM_CLIENTS\n",
        "    lengths = [partition_size] * NUM_CLIENTS\n",
        "    datasets = random_split(trainset, lengths, torch.Generator().manual_seed(42))\n",
        "\n",
        "    # Split each partition into train/val and create DataLoader\n",
        "    trainloaders = []\n",
        "    valloaders = []\n",
        "    for ds in datasets:\n",
        "        len_val = len(ds) // 10  # 10 % validation set\n",
        "        len_train = len(ds) - len_val\n",
        "        lengths = [len_train, len_val]\n",
        "        ds_train, ds_val = random_split(ds, lengths, torch.Generator().manual_seed(42))\n",
        "        trainloaders.append(DataLoader(ds_train, batch_size=BATCH_SIZE, shuffle=True))\n",
        "        valloaders.append(DataLoader(ds_val, batch_size=BATCH_SIZE))\n",
        "    testloader = DataLoader(testset, batch_size=BATCH_SIZE)\n",
        "    return trainloaders, valloaders, testloader\n",
        "\n",
        "trainloaders, valloaders, testloader = load_datasets()"
      ],
      "metadata": {
        "colab": {
          "base_uri": "https://localhost:8080/",
          "height": 101,
          "referenced_widgets": [
            "33dee6906e32419591eae15bd26d7f1b",
            "b3061b8a9ce6484b895b9910a777510a",
            "4029b5c6bd9b423eb63e720365626730",
            "14d768b9c3d249d69d2e7884ac6ce710",
            "ba5cda1e3a5f497b911e6cf74c1cfa4d",
            "54a7ae7690e244c38e4073f43a87ff57",
            "3bbd581921404507b9427a4af916225d",
            "b40c135735fe4c039f97e40c969ba0cf",
            "72c52ba63a21480eb78e0843c91ecc86",
            "be1b009097d645ab89f38e4a83814217",
            "5a1c2b1a40684beebcd04c8008764a66"
          ]
        },
        "id": "Pr3U2gtTLEu4",
        "outputId": "ca3fdf0e-4a85-4b34-ca8f-15f1b52def4c"
      },
      "execution_count": 7,
      "outputs": [
        {
          "output_type": "stream",
          "name": "stdout",
          "text": [
            "Downloading https://www.cs.toronto.edu/~kriz/cifar-10-python.tar.gz to ./dataset/cifar-10-python.tar.gz\n"
          ]
        },
        {
          "output_type": "display_data",
          "data": {
            "text/plain": [
              "  0%|          | 0/170498071 [00:00<?, ?it/s]"
            ],
            "application/vnd.jupyter.widget-view+json": {
              "version_major": 2,
              "version_minor": 0,
              "model_id": "33dee6906e32419591eae15bd26d7f1b"
            }
          },
          "metadata": {}
        },
        {
          "output_type": "stream",
          "name": "stdout",
          "text": [
            "Extracting ./dataset/cifar-10-python.tar.gz to ./dataset\n",
            "Files already downloaded and verified\n"
          ]
        }
      ]
    },
    {
      "cell_type": "code",
      "source": [
        "def imshow(img):\n",
        "    img = img / 2 + 0.5  # unnormalize\n",
        "    plt.imshow(np.transpose(img.numpy(), (1, 2, 0)))\n",
        "    plt.show()\n",
        "################################################\n",
        "#images, labels = iter(next(trainloaders[0])) #REPLACE BY\n",
        "\n",
        "dataiter = iter(trainloaders[0])\n",
        "datax = next(dataiter) \n",
        "images, labels = datax\n",
        "################################################\n",
        "\n",
        "imshow(torchvision.utils.make_grid(images))\n",
        "print(' '.join('%5s' % CLASSES[labels[j]] for j in range(32)))"
      ],
      "metadata": {
        "colab": {
          "base_uri": "https://localhost:8080/",
          "height": 237
        },
        "id": "lmkoiCEfLEyJ",
        "outputId": "67bce5c3-ea82-4086-d884-ed15659f519a"
      },
      "execution_count": 8,
      "outputs": [
        {
          "output_type": "display_data",
          "data": {
            "text/plain": [
              "<Figure size 432x288 with 1 Axes>"
            ],
            "image/png": "[encoded data removed]"
          },
          "metadata": {
            "needs_background": "light"
          }
        },
        {
          "output_type": "stream",
          "name": "stdout",
          "text": [
            " deer  deer  frog  frog truck  deer   dog  bird   cat  deer   cat  frog horse  ship   dog horse  ship truck   dog  bird plane   cat truck plane truck   cat  frog   dog horse   dog plane   cat\n"
          ]
        }
      ]
    },
    {
      "cell_type": "code",
      "source": [
        "class Net(nn.Module):\n",
        "    def __init__(self) -> None:\n",
        "        super(Net, self).__init__()\n",
        "        self.conv1 = nn.Conv2d(3, 6, 5)\n",
        "        self.pool = nn.MaxPool2d(2, 2)\n",
        "        self.conv2 = nn.Conv2d(6, 16, 5)\n",
        "        self.fc1 = nn.Linear(16 * 5 * 5, 120)\n",
        "        self.fc2 = nn.Linear(120, 84)\n",
        "        self.fc3 = nn.Linear(84, 10)\n",
        "\n",
        "    def forward(self, x: torch.Tensor) -> torch.Tensor:\n",
        "        x = self.pool(F.relu(self.conv1(x)))\n",
        "        x = self.pool(F.relu(self.conv2(x)))\n",
        "        x = x.view(-1, 16 * 5 * 5)\n",
        "        x = F.relu(self.fc1(x))\n",
        "        x = F.relu(self.fc2(x))\n",
        "        x = self.fc3(x)\n",
        "        return x"
      ],
      "metadata": {
        "id": "z85ewh38LE1Z"
      },
      "execution_count": 9,
      "outputs": []
    },
    {
      "cell_type": "code",
      "source": [
        "def train(net, trainloader, epochs: int, verbose=False):\n",
        "    \"\"\"Train the network on the training set.\"\"\"\n",
        "    criterion = torch.nn.CrossEntropyLoss()\n",
        "    optimizer = torch.optim.Adam(net.parameters())\n",
        "    net.train()\n",
        "    for epoch in range(epochs):\n",
        "        correct, total, epoch_loss = 0, 0, 0.0\n",
        "        for images, labels in trainloader:\n",
        "            images, labels = images.to(DEVICE), labels.to(DEVICE)\n",
        "            optimizer.zero_grad()\n",
        "            outputs = net(images)\n",
        "            loss = criterion(net(images), labels)\n",
        "            loss.backward()\n",
        "            optimizer.step()\n",
        "            # Metrics\n",
        "            epoch_loss += loss\n",
        "            total += labels.size(0)\n",
        "            correct += (torch.max(outputs.data, 1)[1] == labels).sum().item()\n",
        "        epoch_loss /= len(trainloader.dataset)\n",
        "        epoch_acc = correct / total\n",
        "        if verbose:\n",
        "            print(f\"Epoch {epoch+1}: train loss {epoch_loss}, accuracy {epoch_acc}\")\n",
        "\n",
        "\n",
        "def test(net, testloader):\n",
        "    \"\"\"Evaluate the network on the entire test set.\"\"\"\n",
        "    criterion = torch.nn.CrossEntropyLoss()\n",
        "    correct, total, loss = 0, 0, 0.0\n",
        "    net.eval()\n",
        "    with torch.no_grad():\n",
        "        for images, labels in testloader:\n",
        "            images, labels = images.to(DEVICE), labels.to(DEVICE)\n",
        "            outputs = net(images)\n",
        "            loss += criterion(outputs, labels).item()\n",
        "            _, predicted = torch.max(outputs.data, 1)\n",
        "            total += labels.size(0)\n",
        "            correct += (predicted == labels).sum().item()\n",
        "    loss /= len(testloader.dataset)\n",
        "    accuracy = correct / total\n",
        "    return loss, accuracy"
      ],
      "metadata": {
        "id": "n9hQlos5LE4y"
      },
      "execution_count": 10,
      "outputs": []
    },
    {
      "cell_type": "code",
      "source": [
        "trainloader = trainloaders[0]\n",
        "valloader = valloaders[0]\n",
        "net = Net().to(DEVICE)\n",
        "\n",
        "for epoch in range(5):\n",
        "    train(net, trainloader, 1)\n",
        "    loss, accuracy = test(net, valloader)\n",
        "    print(f\"Epoch {epoch+1}: validation loss {loss}, accuracy {accuracy}\")\n",
        "\n",
        "loss, accuracy = test(net, testloader)\n",
        "print(f\"Final test set performance:\\n\\tloss {loss}\\n\\taccuracy {accuracy}\")"
      ],
      "metadata": {
        "colab": {
          "base_uri": "https://localhost:8080/"
        },
        "id": "6Ii0NC3ELE70",
        "outputId": "8bae5736-7e17-44bd-9b24-e28271165011"
      },
      "execution_count": 11,
      "outputs": [
        {
          "output_type": "stream",
          "name": "stdout",
          "text": [
            "Epoch 1: validation loss 0.061121432065963745, accuracy 0.298\n",
            "Epoch 2: validation loss 0.057760628938674924, accuracy 0.328\n",
            "Epoch 3: validation loss 0.05681021881103516, accuracy 0.366\n",
            "Epoch 4: validation loss 0.052787667989730835, accuracy 0.378\n",
            "Epoch 5: validation loss 0.052830126285552975, accuracy 0.396\n",
            "Final test set performance:\n",
            "\tloss 0.04927862521409988\n",
            "\taccuracy 0.4212\n"
          ]
        }
      ]
    },
    {
      "cell_type": "code",
      "source": [
        "def get_parameters(net) -> List[np.ndarray]:\n",
        "    return [val.cpu().numpy() for _, val in net.state_dict().items()]\n",
        "\n",
        "def set_parameters(net, parameters: List[np.ndarray]):\n",
        "    params_dict = zip(net.state_dict().keys(), parameters)\n",
        "    state_dict = OrderedDict({k: torch.Tensor(v) for k, v in params_dict})\n",
        "    net.load_state_dict(state_dict, strict=True)"
      ],
      "metadata": {
        "id": "Bf1Xq0WJLE_R"
      },
      "execution_count": 12,
      "outputs": []
    },
    {
      "cell_type": "code",
      "source": [
        "class FlowerClient(fl.client.NumPyClient):\n",
        "    def __init__(self, net, trainloader, valloader):\n",
        "        self.net = net\n",
        "        self.trainloader = trainloader\n",
        "        self.valloader = valloader\n",
        "\n",
        "    def get_parameters(self, config):\n",
        "        return get_parameters(self.net)\n",
        "\n",
        "    def fit(self, parameters, config):\n",
        "        set_parameters(self.net, parameters)\n",
        "        train(self.net, self.trainloader, epochs=1)\n",
        "        return get_parameters(self.net), len(self.trainloader), {}\n",
        "\n",
        "    def evaluate(self, parameters, config):\n",
        "        set_parameters(self.net, parameters)\n",
        "        loss, accuracy = test(self.net, self.valloader)\n",
        "        return float(loss), len(self.valloader), {\"accuracy\": float(accuracy)}"
      ],
      "metadata": {
        "id": "zH7_VR6gLFCS"
      },
      "execution_count": 13,
      "outputs": []
    },
    {
      "cell_type": "code",
      "source": [
        "def client_fn(cid: str) -> FlowerClient:\n",
        "    \"\"\"Create a Flower client representing a single organization.\"\"\"\n",
        "\n",
        "    # Load model\n",
        "    net = Net().to(DEVICE)\n",
        "\n",
        "    # Load data (CIFAR-10)\n",
        "    # Note: each client gets a different trainloader/valloader, so each client\n",
        "    # will train and evaluate on their own unique data\n",
        "    trainloader = trainloaders[int(cid)]\n",
        "    valloader = valloaders[int(cid)]\n",
        "\n",
        "    # Create a  single Flower client representing a single organization\n",
        "    return FlowerClient(net, trainloader, valloader)"
      ],
      "metadata": {
        "id": "nf4mN97vLFGB"
      },
      "execution_count": 14,
      "outputs": []
    },
    {
      "cell_type": "code",
      "source": [
        "# Create FedAvg strategy\n",
        "strategy = fl.server.strategy.FedAvg(\n",
        "        fraction_fit=1.0,  # Sample 100% of available clients for training\n",
        "        fraction_evaluate=0.5,  # Sample 50% of available clients for evaluation\n",
        "        min_fit_clients=10,  # Never sample less than 10 clients for training\n",
        "        min_evaluate_clients=5,  # Never sample less than 5 clients for evaluation\n",
        "        min_available_clients=10,  # Wait until all 10 clients are available\n",
        ")\n",
        "\n",
        "# Start simulation\n",
        "fl.simulation.start_simulation(\n",
        "    client_fn=client_fn,\n",
        "    num_clients=NUM_CLIENTS,\n",
        "    config=fl.server.ServerConfig(num_rounds=5),\n",
        "    strategy=strategy,\n",
        ")"
      ],
      "metadata": {
        "colab": {
          "base_uri": "https://localhost:8080/"
        },
        "id": "wG-DDbWKMWiD",
        "outputId": "f5b202f9-993e-44c0-983f-ab4a2baa08a1"
      },
      "execution_count": 15,
      "outputs": [
        {
          "output_type": "stream",
          "name": "stderr",
          "text": [
            "INFO flower 2022-12-29 17:19:09,355 | app.py:140 | Starting Flower simulation, config: ServerConfig(num_rounds=5, round_timeout=None)\n",
            "INFO:flower:Starting Flower simulation, config: ServerConfig(num_rounds=5, round_timeout=None)\n",
            "2022-12-29 17:19:11,314\tINFO worker.py:1518 -- Started a local Ray instance.\n",
            "INFO flower 2022-12-29 17:19:14,388 | app.py:174 | Flower VCE: Ray initialized with resources: {'memory': 7877502567.0, 'CPU': 2.0, 'node:172.28.0.12': 1.0, 'object_store_memory': 3938751283.0}\n",
            "INFO:flower:Flower VCE: Ray initialized with resources: {'memory': 7877502567.0, 'CPU': 2.0, 'node:172.28.0.12': 1.0, 'object_store_memory': 3938751283.0}\n",
            "INFO flower 2022-12-29 17:19:14,408 | server.py:86 | Initializing global parameters\n",
            "INFO:flower:Initializing global parameters\n",
            "INFO flower 2022-12-29 17:19:14,421 | server.py:270 | Requesting initial parameters from one random client\n",
            "INFO:flower:Requesting initial parameters from one random client\n",
            "INFO flower 2022-12-29 17:19:19,255 | server.py:274 | Received initial parameters from one random client\n",
            "INFO:flower:Received initial parameters from one random client\n",
            "INFO flower 2022-12-29 17:19:19,261 | server.py:88 | Evaluating initial parameters\n",
            "INFO:flower:Evaluating initial parameters\n",
            "INFO flower 2022-12-29 17:19:19,267 | server.py:101 | FL starting\n",
            "INFO:flower:FL starting\n",
            "DEBUG flower 2022-12-29 17:19:19,272 | server.py:215 | fit_round 1: strategy sampled 10 clients (out of 10)\n",
            "DEBUG:flower:fit_round 1: strategy sampled 10 clients (out of 10)\n",
            "DEBUG flower 2022-12-29 17:20:08,807 | server.py:229 | fit_round 1 received 10 results and 0 failures\n",
            "DEBUG:flower:fit_round 1 received 10 results and 0 failures\n",
            "WARNING flower 2022-12-29 17:20:08,858 | fedavg.py:242 | No fit_metrics_aggregation_fn provided\n",
            "WARNING:flower:No fit_metrics_aggregation_fn provided\n",
            "DEBUG flower 2022-12-29 17:20:08,865 | server.py:165 | evaluate_round 1: strategy sampled 5 clients (out of 10)\n",
            "DEBUG:flower:evaluate_round 1: strategy sampled 5 clients (out of 10)\n",
            "DEBUG flower 2022-12-29 17:20:17,764 | server.py:179 | evaluate_round 1 received 5 results and 0 failures\n",
            "DEBUG:flower:evaluate_round 1 received 5 results and 0 failures\n",
            "WARNING flower 2022-12-29 17:20:17,775 | fedavg.py:273 | No evaluate_metrics_aggregation_fn provided\n",
            "WARNING:flower:No evaluate_metrics_aggregation_fn provided\n",
            "DEBUG flower 2022-12-29 17:20:17,781 | server.py:215 | fit_round 2: strategy sampled 10 clients (out of 10)\n",
            "DEBUG:flower:fit_round 2: strategy sampled 10 clients (out of 10)\n",
            "\u001b[2m\u001b[36m(raylet)\u001b[0m Spilled 2794 MiB, 36 objects, write throughput 144 MiB/s. Set RAY_verbose_spill_logs=0 to disable this message.\n",
            "DEBUG flower 2022-12-29 17:21:27,327 | server.py:229 | fit_round 2 received 10 results and 0 failures\n",
            "DEBUG:flower:fit_round 2 received 10 results and 0 failures\n",
            "DEBUG flower 2022-12-29 17:21:27,405 | server.py:165 | evaluate_round 2: strategy sampled 5 clients (out of 10)\n",
            "DEBUG:flower:evaluate_round 2: strategy sampled 5 clients (out of 10)\n",
            "DEBUG flower 2022-12-29 17:21:38,861 | server.py:179 | evaluate_round 2 received 5 results and 0 failures\n",
            "DEBUG:flower:evaluate_round 2 received 5 results and 0 failures\n",
            "DEBUG flower 2022-12-29 17:21:38,865 | server.py:215 | fit_round 3: strategy sampled 10 clients (out of 10)\n",
            "DEBUG:flower:fit_round 3: strategy sampled 10 clients (out of 10)\n",
            "\u001b[2m\u001b[36m(raylet)\u001b[0m Spilled 4118 MiB, 52 objects, write throughput 157 MiB/s.\n",
            "DEBUG flower 2022-12-29 17:22:29,986 | server.py:229 | fit_round 3 received 10 results and 0 failures\n",
            "DEBUG:flower:fit_round 3 received 10 results and 0 failures\n",
            "DEBUG flower 2022-12-29 17:22:30,038 | server.py:165 | evaluate_round 3: strategy sampled 5 clients (out of 10)\n",
            "DEBUG:flower:evaluate_round 3: strategy sampled 5 clients (out of 10)\n",
            "DEBUG flower 2022-12-29 17:22:40,893 | server.py:179 | evaluate_round 3 received 5 results and 0 failures\n",
            "DEBUG:flower:evaluate_round 3 received 5 results and 0 failures\n",
            "DEBUG flower 2022-12-29 17:22:40,897 | server.py:215 | fit_round 4: strategy sampled 10 clients (out of 10)\n",
            "DEBUG:flower:fit_round 4: strategy sampled 10 clients (out of 10)\n",
            "DEBUG flower 2022-12-29 17:23:32,713 | server.py:229 | fit_round 4 received 10 results and 0 failures\n",
            "DEBUG:flower:fit_round 4 received 10 results and 0 failures\n",
            "DEBUG flower 2022-12-29 17:23:32,758 | server.py:165 | evaluate_round 4: strategy sampled 5 clients (out of 10)\n",
            "DEBUG:flower:evaluate_round 4: strategy sampled 5 clients (out of 10)\n",
            "DEBUG flower 2022-12-29 17:23:43,944 | server.py:179 | evaluate_round 4 received 5 results and 0 failures\n",
            "DEBUG:flower:evaluate_round 4 received 5 results and 0 failures\n",
            "DEBUG flower 2022-12-29 17:23:43,948 | server.py:215 | fit_round 5: strategy sampled 10 clients (out of 10)\n",
            "DEBUG:flower:fit_round 5: strategy sampled 10 clients (out of 10)\n",
            "\u001b[2m\u001b[36m(raylet)\u001b[0m Spilled 8236 MiB, 104 objects, write throughput 194 MiB/s.\n",
            "DEBUG flower 2022-12-29 17:24:38,483 | server.py:229 | fit_round 5 received 10 results and 0 failures\n",
            "DEBUG:flower:fit_round 5 received 10 results and 0 failures\n",
            "DEBUG flower 2022-12-29 17:24:38,545 | server.py:165 | evaluate_round 5: strategy sampled 5 clients (out of 10)\n",
            "DEBUG:flower:evaluate_round 5: strategy sampled 5 clients (out of 10)\n",
            "DEBUG flower 2022-12-29 17:24:50,654 | server.py:179 | evaluate_round 5 received 5 results and 0 failures\n",
            "DEBUG:flower:evaluate_round 5 received 5 results and 0 failures\n",
            "INFO flower 2022-12-29 17:24:50,664 | server.py:144 | FL finished in 331.39248509699996\n",
            "INFO:flower:FL finished in 331.39248509699996\n",
            "INFO flower 2022-12-29 17:24:50,673 | app.py:192 | app_fit: losses_distributed [(1, 0.06156458325386047), (2, 0.053356006908416756), (3, 0.050537631273269656), (4, 0.04849435739517212), (5, 0.047749141502380375)]\n",
            "INFO:flower:app_fit: losses_distributed [(1, 0.06156458325386047), (2, 0.053356006908416756), (3, 0.050537631273269656), (4, 0.04849435739517212), (5, 0.047749141502380375)]\n",
            "INFO flower 2022-12-29 17:24:50,684 | app.py:193 | app_fit: metrics_distributed {}\n",
            "INFO:flower:app_fit: metrics_distributed {}\n",
            "INFO flower 2022-12-29 17:24:50,692 | app.py:194 | app_fit: losses_centralized []\n",
            "INFO:flower:app_fit: losses_centralized []\n",
            "INFO flower 2022-12-29 17:24:50,698 | app.py:195 | app_fit: metrics_centralized {}\n",
            "INFO:flower:app_fit: metrics_centralized {}\n"
          ]
        },
        {
          "output_type": "execute_result",
          "data": {
            "text/plain": [
              "History (loss, distributed):\n",
              "\tround 1: 0.06156458325386047\n",
              "\tround 2: 0.053356006908416756\n",
              "\tround 3: 0.050537631273269656\n",
              "\tround 4: 0.04849435739517212\n",
              "\tround 5: 0.047749141502380375"
            ]
          },
          "metadata": {},
          "execution_count": 15
        }
      ]
    },
    {
      "cell_type": "code",
      "source": [
        "def weighted_average(metrics: List[Tuple[int, Metrics]]) -> Metrics:\n",
        "    # Multiply accuracy of each client by number of examples used\n",
        "    accuracies = [num_examples * m[\"accuracy\"] for num_examples, m in metrics]\n",
        "    examples = [num_examples for num_examples, _ in metrics]\n",
        "\n",
        "    # Aggregate and return custom metric (weighted average)\n",
        "    return {\"accuracy\": sum(accuracies) / sum(examples)}"
      ],
      "metadata": {
        "id": "-OgWnSgjOPaE"
      },
      "execution_count": 16,
      "outputs": []
    },
    {
      "cell_type": "code",
      "source": [
        "# Create FedAvg strategy\n",
        "strategy = fl.server.strategy.FedAvg(\n",
        "        fraction_fit=1.0,\n",
        "        fraction_evaluate=0.5,\n",
        "        min_fit_clients=10,\n",
        "        min_evaluate_clients=5,\n",
        "        min_available_clients=10,\n",
        "        evaluate_metrics_aggregation_fn=weighted_average,  # <-- pass the metric aggregation function\n",
        ")\n",
        "\n",
        "# Start simulation\n",
        "fl.simulation.start_simulation(\n",
        "    client_fn=client_fn,\n",
        "    num_clients=NUM_CLIENTS,\n",
        "    config=fl.server.ServerConfig(num_rounds=5),\n",
        "    strategy=strategy,\n",
        ")"
      ],
      "metadata": {
        "colab": {
          "base_uri": "https://localhost:8080/"
        },
        "id": "z_v13d4yOPMc",
        "outputId": "f040a4df-c684-4df6-aa80-a53d37b6246f"
      },
      "execution_count": 17,
      "outputs": [
        {
          "output_type": "stream",
          "name": "stderr",
          "text": [
            "INFO flower 2022-12-29 17:25:58,382 | app.py:140 | Starting Flower simulation, config: ServerConfig(num_rounds=5, round_timeout=None)\n",
            "INFO:flower:Starting Flower simulation, config: ServerConfig(num_rounds=5, round_timeout=None)\n",
            "2022-12-29 17:26:03,177\tWARNING services.py:1884 -- WARNING: The object store is using /tmp instead of /dev/shm because /dev/shm has only 2276392960 bytes available. This will harm performance! You may be able to free up space by deleting files in /dev/shm. If you are inside a Docker container, you can increase /dev/shm size by passing '--shm-size=4.11gb' to 'docker run' (or add it to the run_options list in a Ray cluster config). Make sure to set this to more than 30% of available RAM.\n",
            "2022-12-29 17:26:04,453\tINFO worker.py:1518 -- Started a local Ray instance.\n",
            "INFO flower 2022-12-29 17:26:07,676 | app.py:174 | Flower VCE: Ray initialized with resources: {'memory': 8016811623.0, 'node:172.28.0.12': 1.0, 'object_store_memory': 4008405811.0, 'CPU': 2.0}\n",
            "INFO:flower:Flower VCE: Ray initialized with resources: {'memory': 8016811623.0, 'node:172.28.0.12': 1.0, 'object_store_memory': 4008405811.0, 'CPU': 2.0}\n",
            "INFO flower 2022-12-29 17:26:07,698 | server.py:86 | Initializing global parameters\n",
            "INFO:flower:Initializing global parameters\n",
            "INFO flower 2022-12-29 17:26:07,703 | server.py:270 | Requesting initial parameters from one random client\n",
            "INFO:flower:Requesting initial parameters from one random client\n",
            "INFO flower 2022-12-29 17:26:13,822 | server.py:274 | Received initial parameters from one random client\n",
            "INFO:flower:Received initial parameters from one random client\n",
            "INFO flower 2022-12-29 17:26:13,828 | server.py:88 | Evaluating initial parameters\n",
            "INFO:flower:Evaluating initial parameters\n",
            "INFO flower 2022-12-29 17:26:13,834 | server.py:101 | FL starting\n",
            "INFO:flower:FL starting\n",
            "DEBUG flower 2022-12-29 17:26:13,838 | server.py:215 | fit_round 1: strategy sampled 10 clients (out of 10)\n",
            "DEBUG:flower:fit_round 1: strategy sampled 10 clients (out of 10)\n",
            "DEBUG flower 2022-12-29 17:27:05,133 | server.py:229 | fit_round 1 received 10 results and 0 failures\n",
            "DEBUG:flower:fit_round 1 received 10 results and 0 failures\n",
            "WARNING flower 2022-12-29 17:27:05,181 | fedavg.py:242 | No fit_metrics_aggregation_fn provided\n",
            "WARNING:flower:No fit_metrics_aggregation_fn provided\n",
            "DEBUG flower 2022-12-29 17:27:05,193 | server.py:165 | evaluate_round 1: strategy sampled 5 clients (out of 10)\n",
            "DEBUG:flower:evaluate_round 1: strategy sampled 5 clients (out of 10)\n",
            "DEBUG flower 2022-12-29 17:27:14,069 | server.py:179 | evaluate_round 1 received 5 results and 0 failures\n",
            "DEBUG:flower:evaluate_round 1 received 5 results and 0 failures\n",
            "DEBUG flower 2022-12-29 17:27:14,081 | server.py:215 | fit_round 2: strategy sampled 10 clients (out of 10)\n",
            "DEBUG:flower:fit_round 2: strategy sampled 10 clients (out of 10)\n",
            "\u001b[2m\u001b[36m(raylet)\u001b[0m Spilled 2794 MiB, 36 objects, write throughput 126 MiB/s. Set RAY_verbose_spill_logs=0 to disable this message.\n",
            "DEBUG flower 2022-12-29 17:28:27,654 | server.py:229 | fit_round 2 received 10 results and 0 failures\n",
            "DEBUG:flower:fit_round 2 received 10 results and 0 failures\n",
            "DEBUG flower 2022-12-29 17:28:27,703 | server.py:165 | evaluate_round 2: strategy sampled 5 clients (out of 10)\n",
            "DEBUG:flower:evaluate_round 2: strategy sampled 5 clients (out of 10)\n",
            "DEBUG flower 2022-12-29 17:28:40,066 | server.py:179 | evaluate_round 2 received 5 results and 0 failures\n",
            "DEBUG:flower:evaluate_round 2 received 5 results and 0 failures\n",
            "DEBUG flower 2022-12-29 17:28:40,071 | server.py:215 | fit_round 3: strategy sampled 10 clients (out of 10)\n",
            "DEBUG:flower:fit_round 3: strategy sampled 10 clients (out of 10)\n",
            "\u001b[2m\u001b[36m(raylet)\u001b[0m Spilled 4118 MiB, 52 objects, write throughput 139 MiB/s.\n",
            "DEBUG flower 2022-12-29 17:29:37,178 | server.py:229 | fit_round 3 received 10 results and 0 failures\n",
            "DEBUG:flower:fit_round 3 received 10 results and 0 failures\n",
            "DEBUG flower 2022-12-29 17:29:37,230 | server.py:165 | evaluate_round 3: strategy sampled 5 clients (out of 10)\n",
            "DEBUG:flower:evaluate_round 3: strategy sampled 5 clients (out of 10)\n",
            "DEBUG flower 2022-12-29 17:29:48,612 | server.py:179 | evaluate_round 3 received 5 results and 0 failures\n",
            "DEBUG:flower:evaluate_round 3 received 5 results and 0 failures\n",
            "DEBUG flower 2022-12-29 17:29:48,618 | server.py:215 | fit_round 4: strategy sampled 10 clients (out of 10)\n",
            "DEBUG:flower:fit_round 4: strategy sampled 10 clients (out of 10)\n",
            "DEBUG flower 2022-12-29 17:30:47,188 | server.py:229 | fit_round 4 received 10 results and 0 failures\n",
            "DEBUG:flower:fit_round 4 received 10 results and 0 failures\n",
            "DEBUG flower 2022-12-29 17:30:47,234 | server.py:165 | evaluate_round 4: strategy sampled 5 clients (out of 10)\n",
            "DEBUG:flower:evaluate_round 4: strategy sampled 5 clients (out of 10)\n",
            "DEBUG flower 2022-12-29 17:30:59,331 | server.py:179 | evaluate_round 4 received 5 results and 0 failures\n",
            "DEBUG:flower:evaluate_round 4 received 5 results and 0 failures\n",
            "DEBUG flower 2022-12-29 17:30:59,341 | server.py:215 | fit_round 5: strategy sampled 10 clients (out of 10)\n",
            "DEBUG:flower:fit_round 5: strategy sampled 10 clients (out of 10)\n",
            "\u001b[2m\u001b[36m(raylet)\u001b[0m Spilled 8382 MiB, 100 objects, write throughput 165 MiB/s.\n",
            "DEBUG flower 2022-12-29 17:31:54,362 | server.py:229 | fit_round 5 received 10 results and 0 failures\n",
            "DEBUG:flower:fit_round 5 received 10 results and 0 failures\n",
            "DEBUG flower 2022-12-29 17:31:54,408 | server.py:165 | evaluate_round 5: strategy sampled 5 clients (out of 10)\n",
            "DEBUG:flower:evaluate_round 5: strategy sampled 5 clients (out of 10)\n",
            "DEBUG flower 2022-12-29 17:32:05,717 | server.py:179 | evaluate_round 5 received 5 results and 0 failures\n",
            "DEBUG:flower:evaluate_round 5 received 5 results and 0 failures\n",
            "INFO flower 2022-12-29 17:32:05,725 | server.py:144 | FL finished in 351.88740633999987\n",
            "INFO:flower:FL finished in 351.88740633999987\n",
            "INFO flower 2022-12-29 17:32:05,732 | app.py:192 | app_fit: losses_distributed [(1, 0.06216430559158326), (2, 0.0539857635974884), (3, 0.0513447223186493), (4, 0.04952703757286072), (5, 0.04848203201293945)]\n",
            "INFO:flower:app_fit: losses_distributed [(1, 0.06216430559158326), (2, 0.0539857635974884), (3, 0.0513447223186493), (4, 0.04952703757286072), (5, 0.04848203201293945)]\n",
            "INFO flower 2022-12-29 17:32:05,736 | app.py:193 | app_fit: metrics_distributed {'accuracy': [(1, 0.3156), (2, 0.3872), (3, 0.40520000000000006), (4, 0.4284), (5, 0.4284)]}\n",
            "INFO:flower:app_fit: metrics_distributed {'accuracy': [(1, 0.3156), (2, 0.3872), (3, 0.40520000000000006), (4, 0.4284), (5, 0.4284)]}\n",
            "INFO flower 2022-12-29 17:32:05,740 | app.py:194 | app_fit: losses_centralized []\n",
            "INFO:flower:app_fit: losses_centralized []\n",
            "INFO flower 2022-12-29 17:32:05,744 | app.py:195 | app_fit: metrics_centralized {}\n",
            "INFO:flower:app_fit: metrics_centralized {}\n"
          ]
        },
        {
          "output_type": "execute_result",
          "data": {
            "text/plain": [
              "History (loss, distributed):\n",
              "\tround 1: 0.06216430559158326\n",
              "\tround 2: 0.0539857635974884\n",
              "\tround 3: 0.0513447223186493\n",
              "\tround 4: 0.04952703757286072\n",
              "\tround 5: 0.04848203201293945\n",
              "History (metrics, distributed):\n",
              "{'accuracy': [(1, 0.3156), (2, 0.3872), (3, 0.40520000000000006), (4, 0.4284), (5, 0.4284)]}"
            ]
          },
          "metadata": {},
          "execution_count": 17
        }
      ]
    },
    {
      "cell_type": "code",
      "source": [],
      "metadata": {
        "id": "5SZ1Zd5POPAV"
      },
      "execution_count": null,
      "outputs": []
    },
    {
      "cell_type": "code",
      "source": [],
      "metadata": {
        "id": "DQn9OH7wONnv"
      },
      "execution_count": null,
      "outputs": []
    }
  ]
}